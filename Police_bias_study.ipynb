{
 "cells": [
  {
   "cell_type": "code",
   "execution_count": 325,
   "metadata": {},
   "outputs": [],
   "source": [
    "#load required libraries\n",
    "import matplotlib.pyplot as plt\n",
    "import pandas as pd\n",
    "import numpy as np\n",
    "from IPython.display import Markdown, display\n",
    "import sklearn\n",
    "from sklearn.preprocessing import OneHotEncoder,OrdinalEncoder, LabelEncoder\n",
    "from collections import defaultdict\n",
    "\n",
    "\n",
    "\n",
    "# Fairness metrics\n",
    "import aif360\n",
    "from aif360.metrics import BinaryLabelDatasetMetric\n",
    "from aif360.datasets import BinaryLabelDataset\n",
    "from aif360.datasets.multiclass_label_dataset import MulticlassLabelDataset\n",
    "from aif360.metrics import ClassificationMetric\n",
    "from aif360.algorithms.preprocessing import DisparateImpactRemover\n",
    "from aif360.sklearn.metrics import disparate_impact_ratio, average_odds_error, generalized_fpr\n",
    "from aif360.sklearn.metrics import generalized_fnr, difference\n",
    "# # Explainers\n",
    "from aif360.explainers import MetricTextExplainer\n",
    "\n",
    "\n",
    "# # Scalers\n",
    "from sklearn.preprocessing import StandardScaler\n",
    "from sklearn.model_selection import train_test_split\n",
    "\n",
    "# # Classifiers\n",
    "from sklearn.ensemble import RandomForestClassifier\n",
    "from sklearn.ensemble import RandomForestRegressor\n",
    "from sklearn.linear_model import LogisticRegression\n",
    "from sklearn.pipeline import make_pipeline\n",
    "\n",
    "from sklearn.metrics import accuracy_score, confusion_matrix, classification_report\n",
    "#from sklearn.metrics import precision\n"
   ]
  },
  {
   "cell_type": "code",
   "execution_count": 274,
   "metadata": {},
   "outputs": [],
   "source": [
    "#1.Load data to dataframe\n",
    "df = pd.read_csv(\"2020-12-metropolitan-stop-and-search.csv\")\n"
   ]
  },
  {
   "cell_type": "code",
   "execution_count": 275,
   "metadata": {},
   "outputs": [],
   "source": [
    "#2. PREPROCESS\n",
    "#<---code for preprocessing goes here-->\n",
    "#columns with high missing values\n",
    "mising_col = ['Outcome linked to object of search', 'Removal of more than just outer clothing',\n",
    "                'Policing operation','Self-defined ethnicity', 'Date', 'Legislation']\n",
    "df= df.drop(axis=1, columns=mising_col)\n",
    "df.dropna(axis=0, subset=['Age range', 'Latitude', 'Longitude', 'Outcome', 'Gender', \n",
    "                          'Officer-defined ethnicity', 'Object of search'], inplace=True)\n"
   ]
  },
  {
   "cell_type": "code",
   "execution_count": 276,
   "metadata": {},
   "outputs": [],
   "source": [
    "#df.isnull().sum()"
   ]
  },
  {
   "cell_type": "code",
   "execution_count": 277,
   "metadata": {},
   "outputs": [
    {
     "data": {
      "text/plain": [
       "array(['18-24', '25-34', 'over 34', 'Oct-17', 'under 10'], dtype=object)"
      ]
     },
     "execution_count": 277,
     "metadata": {},
     "output_type": "execute_result"
    }
   ],
   "source": [
    "df['Age range'].unique()"
   ]
  },
  {
   "cell_type": "code",
   "execution_count": 278,
   "metadata": {},
   "outputs": [],
   "source": [
    "# fix an a bug or an error in the Age range column. Change Oct to 10\n",
    "df['Age range'] = df['Age range'].replace(['Oct-17'], '10-17')"
   ]
  },
  {
   "cell_type": "code",
   "execution_count": 279,
   "metadata": {},
   "outputs": [],
   "source": [
    "#df['Age range'].unique()\n",
    "\n"
   ]
  },
  {
   "cell_type": "code",
   "execution_count": 280,
   "metadata": {},
   "outputs": [
    {
     "data": {
      "text/html": [
       "<div>\n",
       "<style scoped>\n",
       "    .dataframe tbody tr th:only-of-type {\n",
       "        vertical-align: middle;\n",
       "    }\n",
       "\n",
       "    .dataframe tbody tr th {\n",
       "        vertical-align: top;\n",
       "    }\n",
       "\n",
       "    .dataframe thead th {\n",
       "        text-align: right;\n",
       "    }\n",
       "</style>\n",
       "<table border=\"1\" class=\"dataframe\">\n",
       "  <thead>\n",
       "    <tr style=\"text-align: right;\">\n",
       "      <th></th>\n",
       "      <th>Type</th>\n",
       "      <th>Part of a policing operation</th>\n",
       "      <th>Latitude</th>\n",
       "      <th>Longitude</th>\n",
       "      <th>Gender</th>\n",
       "      <th>Age range</th>\n",
       "      <th>Officer-defined ethnicity</th>\n",
       "      <th>Object of search</th>\n",
       "      <th>Outcome</th>\n",
       "    </tr>\n",
       "  </thead>\n",
       "  <tbody>\n",
       "    <tr>\n",
       "      <th>0</th>\n",
       "      <td>Person search</td>\n",
       "      <td>False</td>\n",
       "      <td>51.528724</td>\n",
       "      <td>-0.017482</td>\n",
       "      <td>Male</td>\n",
       "      <td>18-24</td>\n",
       "      <td>Black</td>\n",
       "      <td>Stolen goods</td>\n",
       "      <td>Arrest</td>\n",
       "    </tr>\n",
       "    <tr>\n",
       "      <th>1</th>\n",
       "      <td>Person and Vehicle search</td>\n",
       "      <td>False</td>\n",
       "      <td>51.461264</td>\n",
       "      <td>-0.303021</td>\n",
       "      <td>Male</td>\n",
       "      <td>18-24</td>\n",
       "      <td>White</td>\n",
       "      <td>Controlled drugs</td>\n",
       "      <td>A no further action disposal</td>\n",
       "    </tr>\n",
       "    <tr>\n",
       "      <th>3</th>\n",
       "      <td>Person search</td>\n",
       "      <td>False</td>\n",
       "      <td>51.461264</td>\n",
       "      <td>-0.303021</td>\n",
       "      <td>Male</td>\n",
       "      <td>25-34</td>\n",
       "      <td>White</td>\n",
       "      <td>Controlled drugs</td>\n",
       "      <td>A no further action disposal</td>\n",
       "    </tr>\n",
       "    <tr>\n",
       "      <th>4</th>\n",
       "      <td>Person and Vehicle search</td>\n",
       "      <td>False</td>\n",
       "      <td>51.462786</td>\n",
       "      <td>-0.284063</td>\n",
       "      <td>Male</td>\n",
       "      <td>18-24</td>\n",
       "      <td>White</td>\n",
       "      <td>Controlled drugs</td>\n",
       "      <td>A no further action disposal</td>\n",
       "    </tr>\n",
       "    <tr>\n",
       "      <th>5</th>\n",
       "      <td>Person search</td>\n",
       "      <td>False</td>\n",
       "      <td>51.469138</td>\n",
       "      <td>-0.171837</td>\n",
       "      <td>Male</td>\n",
       "      <td>18-24</td>\n",
       "      <td>Other</td>\n",
       "      <td>Offensive weapons</td>\n",
       "      <td>A no further action disposal</td>\n",
       "    </tr>\n",
       "    <tr>\n",
       "      <th>6</th>\n",
       "      <td>Person search</td>\n",
       "      <td>False</td>\n",
       "      <td>51.381500</td>\n",
       "      <td>-0.243793</td>\n",
       "      <td>Male</td>\n",
       "      <td>25-34</td>\n",
       "      <td>White</td>\n",
       "      <td>Evidence of offences under the Act</td>\n",
       "      <td>A no further action disposal</td>\n",
       "    </tr>\n",
       "    <tr>\n",
       "      <th>7</th>\n",
       "      <td>Person and Vehicle search</td>\n",
       "      <td>False</td>\n",
       "      <td>51.461264</td>\n",
       "      <td>-0.303021</td>\n",
       "      <td>Male</td>\n",
       "      <td>18-24</td>\n",
       "      <td>White</td>\n",
       "      <td>Controlled drugs</td>\n",
       "      <td>Arrest</td>\n",
       "    </tr>\n",
       "    <tr>\n",
       "      <th>8</th>\n",
       "      <td>Person search</td>\n",
       "      <td>False</td>\n",
       "      <td>51.561515</td>\n",
       "      <td>0.066196</td>\n",
       "      <td>Male</td>\n",
       "      <td>25-34</td>\n",
       "      <td>Black</td>\n",
       "      <td>Controlled drugs</td>\n",
       "      <td>A no further action disposal</td>\n",
       "    </tr>\n",
       "    <tr>\n",
       "      <th>10</th>\n",
       "      <td>Person search</td>\n",
       "      <td>False</td>\n",
       "      <td>51.561515</td>\n",
       "      <td>0.066196</td>\n",
       "      <td>Male</td>\n",
       "      <td>25-34</td>\n",
       "      <td>White</td>\n",
       "      <td>Controlled drugs</td>\n",
       "      <td>A no further action disposal</td>\n",
       "    </tr>\n",
       "    <tr>\n",
       "      <th>11</th>\n",
       "      <td>Person and Vehicle search</td>\n",
       "      <td>False</td>\n",
       "      <td>51.475038</td>\n",
       "      <td>-0.404085</td>\n",
       "      <td>Male</td>\n",
       "      <td>25-34</td>\n",
       "      <td>White</td>\n",
       "      <td>Controlled drugs</td>\n",
       "      <td>A no further action disposal</td>\n",
       "    </tr>\n",
       "  </tbody>\n",
       "</table>\n",
       "</div>"
      ],
      "text/plain": [
       "                         Type  Part of a policing operation   Latitude  \\\n",
       "0               Person search                         False  51.528724   \n",
       "1   Person and Vehicle search                         False  51.461264   \n",
       "3               Person search                         False  51.461264   \n",
       "4   Person and Vehicle search                         False  51.462786   \n",
       "5               Person search                         False  51.469138   \n",
       "6               Person search                         False  51.381500   \n",
       "7   Person and Vehicle search                         False  51.461264   \n",
       "8               Person search                         False  51.561515   \n",
       "10              Person search                         False  51.561515   \n",
       "11  Person and Vehicle search                         False  51.475038   \n",
       "\n",
       "    Longitude Gender Age range Officer-defined ethnicity  \\\n",
       "0   -0.017482   Male     18-24                     Black   \n",
       "1   -0.303021   Male     18-24                     White   \n",
       "3   -0.303021   Male     25-34                     White   \n",
       "4   -0.284063   Male     18-24                     White   \n",
       "5   -0.171837   Male     18-24                     Other   \n",
       "6   -0.243793   Male     25-34                     White   \n",
       "7   -0.303021   Male     18-24                     White   \n",
       "8    0.066196   Male     25-34                     Black   \n",
       "10   0.066196   Male     25-34                     White   \n",
       "11  -0.404085   Male     25-34                     White   \n",
       "\n",
       "                      Object of search                       Outcome  \n",
       "0                         Stolen goods                        Arrest  \n",
       "1                     Controlled drugs  A no further action disposal  \n",
       "3                     Controlled drugs  A no further action disposal  \n",
       "4                     Controlled drugs  A no further action disposal  \n",
       "5                    Offensive weapons  A no further action disposal  \n",
       "6   Evidence of offences under the Act  A no further action disposal  \n",
       "7                     Controlled drugs                        Arrest  \n",
       "8                     Controlled drugs  A no further action disposal  \n",
       "10                    Controlled drugs  A no further action disposal  \n",
       "11                    Controlled drugs  A no further action disposal  "
      ]
     },
     "execution_count": 280,
     "metadata": {},
     "output_type": "execute_result"
    }
   ],
   "source": [
    "df.head(10)"
   ]
  },
  {
   "cell_type": "code",
   "execution_count": 281,
   "metadata": {},
   "outputs": [],
   "source": [
    "#Apply Encoders to the required variables\n",
    "le = LabelEncoder()\n",
    "oe = OrdinalEncoder(categories=[['under 10', '18-24', '25-34', 'over 34', '10-17']])\n",
    "oeOS = OrdinalEncoder(categories=[['Stolen goods', 'Controlled drugs', 'Offensive weapons',\n",
    "       'Evidence of offences under the Act',\n",
    "       'Anything to threaten or harm anyone', 'Firearms', 'Fireworks',\n",
    "       'Articles for use in criminal damage']])\n",
    "ohe = OneHotEncoder()\n",
    "df[[\"Age range\"]] = oe.fit_transform(df[[\"Age range\"]].values.reshape((-1, 1)))\n",
    "df[['Gender']] = OrdinalEncoder().fit_transform(df[['Gender']].values.reshape((-1, 1)))\n",
    "df[['Object of search']] = oeOS.fit_transform(df[['Object of search']].values.reshape((-1, 1)))\n",
    "#print(df.columns)\n",
    "df[['Officer-defined ethnicity']] = OrdinalEncoder().fit_transform(df[['Officer-defined ethnicity']].values.reshape((-1, 1)))\n",
    "df.Outcome = LabelEncoder().fit_transform(df.Outcome)\n",
    "df = pd.get_dummies(df, columns=['Type', 'Part of a policing operation'])"
   ]
  },
  {
   "cell_type": "code",
   "execution_count": 282,
   "metadata": {},
   "outputs": [],
   "source": [
    "#df.head(10)"
   ]
  },
  {
   "cell_type": "code",
   "execution_count": 283,
   "metadata": {},
   "outputs": [],
   "source": [
    "# dataset = PoliceDataset(df=df, label_name='Outcome', favorable_classes=[le.transform(['A no further action disposal'])],\n",
    "#                         protected_attribute_names= ['Age range'],\n",
    "#                         privileged_classes=[oe.transform(np.asarray(['25-34', '10-17','over 34', 'under 10']).reshape(-1,1))])\n",
    "#                         #protected_attribute_names= ['Age'],  privileged_classes= [[1.0]])\n"
   ]
  },
  {
   "cell_type": "code",
   "execution_count": 284,
   "metadata": {},
   "outputs": [],
   "source": [
    "### Encode Categorical variables"
   ]
  },
  {
   "cell_type": "code",
   "execution_count": 285,
   "metadata": {},
   "outputs": [],
   "source": [
    "# Encode Male as 1, Female as 0\n",
    "df.loc[df.Gender == 1.0, 'Gender'] = 1\n",
    "df.loc[df.Gender == 0.0, 'Gender'] = 0\n",
    "df.loc[df.Gender == 2.0, 'Gender'] = 0\n"
   ]
  },
  {
   "cell_type": "code",
   "execution_count": 286,
   "metadata": {},
   "outputs": [
    {
     "data": {
      "text/plain": [
       "0    11393\n",
       "1     2126\n",
       "3     1509\n",
       "4      538\n",
       "5      252\n",
       "2       11\n",
       "Name: Outcome, dtype: int64"
      ]
     },
     "execution_count": 286,
     "metadata": {},
     "output_type": "execute_result"
    }
   ],
   "source": [
    "y= df['Outcome']\n",
    "y.value_counts()\n"
   ]
  },
  {
   "cell_type": "code",
   "execution_count": 287,
   "metadata": {},
   "outputs": [],
   "source": [
    "# drop more columns\n",
    "c_df = df.copy()\n",
    "X = df.drop(['Latitude', 'Longitude'], axis = 1)"
   ]
  },
  {
   "cell_type": "code",
   "execution_count": 288,
   "metadata": {},
   "outputs": [
    {
     "data": {
      "text/html": [
       "<div>\n",
       "<style scoped>\n",
       "    .dataframe tbody tr th:only-of-type {\n",
       "        vertical-align: middle;\n",
       "    }\n",
       "\n",
       "    .dataframe tbody tr th {\n",
       "        vertical-align: top;\n",
       "    }\n",
       "\n",
       "    .dataframe thead th {\n",
       "        text-align: right;\n",
       "    }\n",
       "</style>\n",
       "<table border=\"1\" class=\"dataframe\">\n",
       "  <thead>\n",
       "    <tr style=\"text-align: right;\">\n",
       "      <th></th>\n",
       "      <th>Gender</th>\n",
       "      <th>Age range</th>\n",
       "      <th>Officer-defined ethnicity</th>\n",
       "      <th>Object of search</th>\n",
       "      <th>Outcome</th>\n",
       "      <th>Type_Person and Vehicle search</th>\n",
       "      <th>Type_Person search</th>\n",
       "      <th>Type_Vehicle search</th>\n",
       "      <th>Part of a policing operation_False</th>\n",
       "    </tr>\n",
       "  </thead>\n",
       "  <tbody>\n",
       "    <tr>\n",
       "      <th>0</th>\n",
       "      <td>1.0</td>\n",
       "      <td>1.0</td>\n",
       "      <td>1.0</td>\n",
       "      <td>0.0</td>\n",
       "      <td>1</td>\n",
       "      <td>0</td>\n",
       "      <td>1</td>\n",
       "      <td>0</td>\n",
       "      <td>1</td>\n",
       "    </tr>\n",
       "    <tr>\n",
       "      <th>1</th>\n",
       "      <td>1.0</td>\n",
       "      <td>1.0</td>\n",
       "      <td>3.0</td>\n",
       "      <td>1.0</td>\n",
       "      <td>0</td>\n",
       "      <td>1</td>\n",
       "      <td>0</td>\n",
       "      <td>0</td>\n",
       "      <td>1</td>\n",
       "    </tr>\n",
       "    <tr>\n",
       "      <th>3</th>\n",
       "      <td>1.0</td>\n",
       "      <td>2.0</td>\n",
       "      <td>3.0</td>\n",
       "      <td>1.0</td>\n",
       "      <td>0</td>\n",
       "      <td>0</td>\n",
       "      <td>1</td>\n",
       "      <td>0</td>\n",
       "      <td>1</td>\n",
       "    </tr>\n",
       "    <tr>\n",
       "      <th>4</th>\n",
       "      <td>1.0</td>\n",
       "      <td>1.0</td>\n",
       "      <td>3.0</td>\n",
       "      <td>1.0</td>\n",
       "      <td>0</td>\n",
       "      <td>1</td>\n",
       "      <td>0</td>\n",
       "      <td>0</td>\n",
       "      <td>1</td>\n",
       "    </tr>\n",
       "    <tr>\n",
       "      <th>5</th>\n",
       "      <td>1.0</td>\n",
       "      <td>1.0</td>\n",
       "      <td>2.0</td>\n",
       "      <td>2.0</td>\n",
       "      <td>0</td>\n",
       "      <td>0</td>\n",
       "      <td>1</td>\n",
       "      <td>0</td>\n",
       "      <td>1</td>\n",
       "    </tr>\n",
       "    <tr>\n",
       "      <th>...</th>\n",
       "      <td>...</td>\n",
       "      <td>...</td>\n",
       "      <td>...</td>\n",
       "      <td>...</td>\n",
       "      <td>...</td>\n",
       "      <td>...</td>\n",
       "      <td>...</td>\n",
       "      <td>...</td>\n",
       "      <td>...</td>\n",
       "    </tr>\n",
       "    <tr>\n",
       "      <th>20366</th>\n",
       "      <td>1.0</td>\n",
       "      <td>1.0</td>\n",
       "      <td>1.0</td>\n",
       "      <td>2.0</td>\n",
       "      <td>0</td>\n",
       "      <td>1</td>\n",
       "      <td>0</td>\n",
       "      <td>0</td>\n",
       "      <td>1</td>\n",
       "    </tr>\n",
       "    <tr>\n",
       "      <th>20367</th>\n",
       "      <td>1.0</td>\n",
       "      <td>2.0</td>\n",
       "      <td>3.0</td>\n",
       "      <td>1.0</td>\n",
       "      <td>0</td>\n",
       "      <td>0</td>\n",
       "      <td>1</td>\n",
       "      <td>0</td>\n",
       "      <td>1</td>\n",
       "    </tr>\n",
       "    <tr>\n",
       "      <th>20368</th>\n",
       "      <td>1.0</td>\n",
       "      <td>1.0</td>\n",
       "      <td>3.0</td>\n",
       "      <td>1.0</td>\n",
       "      <td>0</td>\n",
       "      <td>1</td>\n",
       "      <td>0</td>\n",
       "      <td>0</td>\n",
       "      <td>1</td>\n",
       "    </tr>\n",
       "    <tr>\n",
       "      <th>20369</th>\n",
       "      <td>1.0</td>\n",
       "      <td>1.0</td>\n",
       "      <td>0.0</td>\n",
       "      <td>1.0</td>\n",
       "      <td>0</td>\n",
       "      <td>0</td>\n",
       "      <td>1</td>\n",
       "      <td>0</td>\n",
       "      <td>1</td>\n",
       "    </tr>\n",
       "    <tr>\n",
       "      <th>20370</th>\n",
       "      <td>1.0</td>\n",
       "      <td>1.0</td>\n",
       "      <td>0.0</td>\n",
       "      <td>1.0</td>\n",
       "      <td>0</td>\n",
       "      <td>0</td>\n",
       "      <td>1</td>\n",
       "      <td>0</td>\n",
       "      <td>1</td>\n",
       "    </tr>\n",
       "  </tbody>\n",
       "</table>\n",
       "<p>15829 rows × 9 columns</p>\n",
       "</div>"
      ],
      "text/plain": [
       "       Gender  Age range  Officer-defined ethnicity  Object of search  \\\n",
       "0         1.0        1.0                        1.0               0.0   \n",
       "1         1.0        1.0                        3.0               1.0   \n",
       "3         1.0        2.0                        3.0               1.0   \n",
       "4         1.0        1.0                        3.0               1.0   \n",
       "5         1.0        1.0                        2.0               2.0   \n",
       "...       ...        ...                        ...               ...   \n",
       "20366     1.0        1.0                        1.0               2.0   \n",
       "20367     1.0        2.0                        3.0               1.0   \n",
       "20368     1.0        1.0                        3.0               1.0   \n",
       "20369     1.0        1.0                        0.0               1.0   \n",
       "20370     1.0        1.0                        0.0               1.0   \n",
       "\n",
       "       Outcome  Type_Person and Vehicle search  Type_Person search  \\\n",
       "0            1                               0                   1   \n",
       "1            0                               1                   0   \n",
       "3            0                               0                   1   \n",
       "4            0                               1                   0   \n",
       "5            0                               0                   1   \n",
       "...        ...                             ...                 ...   \n",
       "20366        0                               1                   0   \n",
       "20367        0                               0                   1   \n",
       "20368        0                               1                   0   \n",
       "20369        0                               0                   1   \n",
       "20370        0                               0                   1   \n",
       "\n",
       "       Type_Vehicle search  Part of a policing operation_False  \n",
       "0                        0                                   1  \n",
       "1                        0                                   1  \n",
       "3                        0                                   1  \n",
       "4                        0                                   1  \n",
       "5                        0                                   1  \n",
       "...                    ...                                 ...  \n",
       "20366                    0                                   1  \n",
       "20367                    0                                   1  \n",
       "20368                    0                                   1  \n",
       "20369                    0                                   1  \n",
       "20370                    0                                   1  \n",
       "\n",
       "[15829 rows x 9 columns]"
      ]
     },
     "execution_count": 288,
     "metadata": {},
     "output_type": "execute_result"
    }
   ],
   "source": [
    "X"
   ]
  },
  {
   "cell_type": "code",
   "execution_count": 289,
   "metadata": {},
   "outputs": [],
   "source": [
    "# Use train_test_split function to prepare data analysis\n",
    "train_x,test_x,train_y,test_y = train_test_split(X, y, test_size=0.2, random_state = 1, stratify=y)"
   ]
  },
  {
   "cell_type": "code",
   "execution_count": 290,
   "metadata": {},
   "outputs": [
    {
     "data": {
      "text/plain": [
       "(3166, 10)"
      ]
     },
     "execution_count": 290,
     "metadata": {},
     "output_type": "execute_result"
    }
   ],
   "source": [
    "#made a copy of the target column for use in disparate imppact ratio classsification\n",
    "real_test = test_x.copy()\n",
    "real_test['Arrest'] = test_y\n",
    "real_test.shape"
   ]
  },
  {
   "cell_type": "code",
   "execution_count": 315,
   "metadata": {},
   "outputs": [],
   "source": [
    "# Priviliged group: Females (1)\n",
    "# Unpriviliged group: Males (0)\n",
    "female_df = real_test[real_test['Gender'] == 1]\n",
    "num_of_priviliged = female_df.shape[0]\n",
    "male_df = real_test[real_test['Gender'] == 0]\n",
    "num_of_unpriviliged = male_df.shape[0]"
   ]
  },
  {
   "cell_type": "code",
   "execution_count": 292,
   "metadata": {},
   "outputs": [
    {
     "data": {
      "text/plain": [
       "0.1358991825613079"
      ]
     },
     "execution_count": 292,
     "metadata": {},
     "output_type": "execute_result"
    }
   ],
   "source": [
    "# getting the ra\n",
    "priviliged_outcomes = female_df[female_df['Arrest'] == 1].shape[0]\n",
    "priviliged_ratio_female = priviliged_outcomes/num_of_priviliged\n",
    "priviliged_ratio_female"
   ]
  },
  {
   "cell_type": "code",
   "execution_count": 293,
   "metadata": {},
   "outputs": [
    {
     "data": {
      "text/plain": [
       "0.11304347826086956"
      ]
     },
     "execution_count": 293,
     "metadata": {},
     "output_type": "execute_result"
    }
   ],
   "source": [
    "unpriviliged_outcomes = male_df[male_df['Arrest'] == 1].shape[0]\n",
    "unpriviliged_ratio_male = unpriviliged_outcomes/num_of_unpriviliged\n",
    "unpriviliged_ratio_male"
   ]
  },
  {
   "cell_type": "code",
   "execution_count": 294,
   "metadata": {},
   "outputs": [
    {
     "data": {
      "text/plain": [
       "0.05790190735694823"
      ]
     },
     "execution_count": 294,
     "metadata": {},
     "output_type": "execute_result"
    }
   ],
   "source": [
    "priviliged_outcomes = white_df[white_df['Arrest'] == 1].shape[0]\n",
    "priviliged_ratio_white = priviliged_outcomes/num_of_priviliged\n",
    "priviliged_ratio_white"
   ]
  },
  {
   "cell_type": "code",
   "execution_count": 295,
   "metadata": {},
   "outputs": [
    {
     "data": {
      "text/plain": [
       "0.7043478260869566"
      ]
     },
     "execution_count": 295,
     "metadata": {},
     "output_type": "execute_result"
    }
   ],
   "source": [
    "unpriviliged_outcomes = black_df[black_df['Arrest'] == 1].shape[0]\n",
    "unpriviliged_ratio_black = unpriviliged_outcomes/num_of_unpriviliged\n",
    "unpriviliged_ratio_black"
   ]
  },
  {
   "cell_type": "code",
   "execution_count": 296,
   "metadata": {},
   "outputs": [],
   "source": [
    "### Disparate impact gender"
   ]
  },
  {
   "cell_type": "code",
   "execution_count": 297,
   "metadata": {},
   "outputs": [
    {
     "name": "stdout",
     "output_type": "stream",
     "text": [
      "Disparate Impact, Gender vs. Outcome : 0.8318186771276016\n"
     ]
    }
   ],
   "source": [
    "# Calculating disparate impact\n",
    "disparate_impact = unpriviliged_ratio_male / priviliged_ratio_female\n",
    "print(\"Disparate Impact, Gender vs. Outcome : \" + str(disparate_impact))"
   ]
  },
  {
   "cell_type": "code",
   "execution_count": 298,
   "metadata": {},
   "outputs": [
    {
     "name": "stdout",
     "output_type": "stream",
     "text": [
      "Disparate Impact, Gender vs. Outcome : 12.164501278772379\n"
     ]
    }
   ],
   "source": [
    "# Calculating disparate impact ratio\n",
    "disparate_impact = unpriviliged_ratio_black / priviliged_ratio_white\n",
    "print(\"Disparate Impact, Gender vs. Outcome : \" + str(disparate_impact))"
   ]
  },
  {
   "cell_type": "code",
   "execution_count": 299,
   "metadata": {},
   "outputs": [],
   "source": [
    "#make a model\n",
    "# modelRFR = RandomForestRegressor(max_depth=2, random_state=0)"
   ]
  },
  {
   "cell_type": "code",
   "execution_count": 300,
   "metadata": {},
   "outputs": [],
   "source": [
    "# modelRFR.fit(train_x, train_y)"
   ]
  },
  {
   "cell_type": "code",
   "execution_count": 301,
   "metadata": {},
   "outputs": [],
   "source": [
    "# # Let's see how well it predicted with a couple values \n",
    "# y_pred = pd.Series(modelRFR.predict(test_x))\n",
    "# y_test = test_y.reset_index(drop=True)\n",
    "# z = pd.concat([y_test, y_pred], axis=1)\n",
    "# z.columns = ['True', 'Prediction']\n",
    "# z.head()\n",
    "# # Predicts 5/5 correctly in this sample\n"
   ]
  },
  {
   "cell_type": "code",
   "execution_count": 302,
   "metadata": {},
   "outputs": [
    {
     "data": {
      "text/plain": [
       "RandomForestClassifier(bootstrap=True, ccp_alpha=0.0, class_weight=None,\n",
       "                       criterion='gini', max_depth=None, max_features='auto',\n",
       "                       max_leaf_nodes=None, max_samples=None,\n",
       "                       min_impurity_decrease=0.0, min_impurity_split=None,\n",
       "                       min_samples_leaf=1, min_samples_split=2,\n",
       "                       min_weight_fraction_leaf=0.0, n_estimators=100,\n",
       "                       n_jobs=None, oob_score=False, random_state=None,\n",
       "                       verbose=0, warm_start=False)"
      ]
     },
     "execution_count": 302,
     "metadata": {},
     "output_type": "execute_result"
    }
   ],
   "source": [
    "# Instantiate and fit the RandomForestClassifier\n",
    "forest = RandomForestClassifier()\n",
    "forest.fit(train_x, train_y)"
   ]
  },
  {
   "cell_type": "code",
   "execution_count": 328,
   "metadata": {},
   "outputs": [
    {
     "name": "stdout",
     "output_type": "stream",
     "text": [
      "[0 1 3 ... 0 0 1]\n",
      "Accurary: 0.9987365761212887\n"
     ]
    }
   ],
   "source": [
    "y_pred_test = forest.predict(test_x)\n",
    "print(y_pred_test)\n",
    "\n",
    "print(\"Accurary:\", accuracy_score(test_y, y_pred_test ))\n"
   ]
  },
  {
   "cell_type": "code",
   "execution_count": 304,
   "metadata": {},
   "outputs": [],
   "source": [
    "# Encode target varible Outcome as 1, N Loan_Status as 0\n",
    "c_df.loc[c_df.Outcome == 1, 'Outcome'] = 1\n",
    "c_df.loc[c_df.Outcome == 0, 'Outcome'] = 0\n",
    "c_df.loc[c_df.Outcome == 2, 'Outcome'] = 0\n",
    "c_df.loc[c_df.Outcome == 3, 'Outcome'] = 0\n",
    "c_df.loc[c_df.Outcome == 4, 'Outcome'] = 0\n",
    "c_df.loc[c_df.Outcome == 5, 'Outcome'] = 0\n",
    "# df.loc[df.Loan_Status == 'N', 'Loan_Status'] = 0\n",
    "# df"
   ]
  },
  {
   "cell_type": "code",
   "execution_count": 305,
   "metadata": {},
   "outputs": [
    {
     "data": {
      "text/plain": [
       "array([1, 0])"
      ]
     },
     "execution_count": 305,
     "metadata": {},
     "output_type": "execute_result"
    }
   ],
   "source": [
    "c_df['Outcome'].unique()"
   ]
  },
  {
   "cell_type": "code",
   "execution_count": 306,
   "metadata": {},
   "outputs": [],
   "source": [
    "#c_df.columns"
   ]
  },
  {
   "cell_type": "code",
   "execution_count": 307,
   "metadata": {},
   "outputs": [],
   "source": [
    "#getting dataframe into the dataset feature and lablels setting\n",
    "binaryLabelDataset = aif360.datasets.StandardDataset(df=c_df, label_name='Outcome', favorable_classes=[1],\n",
    "                                                     protected_attribute_names=['Gender', 'Age range', 'Officer-defined ethnicity'], \n",
    "                                                     privileged_classes=[[0], [0, 2, 3, 4], [3]])\n"
   ]
  },
  {
   "cell_type": "code",
   "execution_count": 308,
   "metadata": {},
   "outputs": [
    {
     "data": {
      "text/plain": [
       "array([1., 3., 2., 0.])"
      ]
     },
     "execution_count": 308,
     "metadata": {},
     "output_type": "execute_result"
    }
   ],
   "source": [
    "df['Officer-defined ethnicity'].unique()"
   ]
  },
  {
   "cell_type": "code",
   "execution_count": 271,
   "metadata": {},
   "outputs": [
    {
     "name": "stdout",
     "output_type": "stream",
     "text": [
      "Disparate impact (probability of favorable outcome for unprivileged instances / probability of favorable outcome for privileged instances): 1.0293233082706768\n",
      "Statistical parity difference (probability of favorable outcome for unprivileged instances - probability of favorable outcome for privileged instances): 0.0030115830115830106\n"
     ]
    }
   ],
   "source": [
    "# metric explainer to favourable outcome\n",
    "pdata = BinaryLabelDatasetMetric(\n",
    "        binaryLabelDataset,\n",
    "        unprivileged_groups=[{'Gender': 1, 'Age range': 1}],\n",
    "        privileged_groups=[{'Gender': 0, 'Age range':1}, {'Gender': 0, 'Age range':3}])#, {'Age range': 2}, {'Age range': 3}, {'Age range': 4}, {'Age range': 5}])\n",
    "explainer = MetricTextExplainer(pdata)\n",
    "\n",
    "print(explainer.disparate_impact())\n",
    "print(explainer.statistical_parity_difference())\n"
   ]
  },
  {
   "cell_type": "code",
   "execution_count": 314,
   "metadata": {},
   "outputs": [
    {
     "name": "stdout",
     "output_type": "stream",
     "text": [
      "Disparate impact (probability of favorable outcome for unprivileged instances / probability of favorable outcome for privileged instances): 1.038273606758414\n",
      "Statistical parity difference (probability of favorable outcome for unprivileged instances - probability of favorable outcome for privileged instances): 0.005030823622966724\n"
     ]
    }
   ],
   "source": [
    "#metric explainer for the officer-defined ethnicity feature \n",
    "ethnic_data = BinaryLabelDatasetMetric(\n",
    "        binaryLabelDataset,\n",
    "        unprivileged_groups=[{'Officer-defined ethnicity': 0},{'Officer-defined ethnicity': 2},{'Officer-defined ethnicity': 1}],\n",
    "        privileged_groups=[{'Officer-defined ethnicity': 3}])# {'Gender': 0, 'Age range':3}])#, {'Age range': 2}, {'Age range': 3}, {'Age range': 4}, {'Age range': 5}])\n",
    "explainer = MetricTextExplainer(ethnic_data)\n",
    "print(explainer.disparate_impact())\n",
    "print(explainer.statistical_parity_difference())\n"
   ]
  },
  {
   "cell_type": "code",
   "execution_count": 194,
   "metadata": {},
   "outputs": [],
   "source": [
    "#param_fit = forest.fit(train_x, train_y)\n",
    "dt = modelRFR.fit(binaryLabelDataset.features, binaryLabelDataset.labels.ravel())"
   ]
  },
  {
   "cell_type": "code",
   "execution_count": 207,
   "metadata": {},
   "outputs": [],
   "source": [
    "#functions that return classification metrics \n",
    "def test_generalized_entropy_index(binaryLabelDataset ):\n",
    "    data = binaryLabelDataset\n",
    "    #print(data)\n",
    "    pred = data.copy()\n",
    "    pred[[3, 9], -1] = 0\n",
    "    pred[[4, 5], -1] = 1\n",
    "    bld = BinaryLabelDataset(df=c_df, label_names=['Outcome'],\n",
    "        protected_attribute_names=['Gender'])\n",
    "    cm = ClassificationMetric(bld)\n",
    "    \n",
    "    assert cm.generalized_entropy_index() == 0.2\n",
    "\n",
    "    \n",
    "def test_theil_index(binaryLabelDataset ):\n",
    "    data = binaryLabelDataset \n",
    "    pred = data.copy()\n",
    "    \n",
    "    pred[[3, 9], -1] = 0\n",
    "    pred[[4, 5], -1] = 1\n",
    "    bld = BinaryLabelDataset(df=c_df, label_names=['Outcome'],\n",
    "        protected_attribute_names=['Age range'])\n",
    "    bld2 = BinaryLabelDataset(df=c_df2, label_names=['Outcome'],\n",
    "                              protected_attribute_names=['Gender'])\n",
    "    cm = ClassificationMetric(bld, bld2)\n",
    "    assert cm.theil_index() == 4*np.log(2)/10\n",
    "    \n",
    "                     \n",
    "    #pred = data.copy()\n",
    "#test_generalized_entropy_index(binaryLabelDataset)"
   ]
  }
 ],
 "metadata": {
  "kernelspec": {
   "display_name": "Python 3",
   "language": "python",
   "name": "python3"
  },
  "language_info": {
   "codemirror_mode": {
    "name": "ipython",
    "version": 3
   },
   "file_extension": ".py",
   "mimetype": "text/x-python",
   "name": "python",
   "nbconvert_exporter": "python",
   "pygments_lexer": "ipython3",
   "version": "3.7.6"
  }
 },
 "nbformat": 4,
 "nbformat_minor": 4
}
